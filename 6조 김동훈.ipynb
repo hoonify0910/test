{
 "cells": [
  {
   "cell_type": "code",
   "execution_count": null,
   "id": "f1feffe2-fcdc-4631-b29f-040dc014830d",
   "metadata": {},
   "outputs": [],
   "source": [
    "import a\n",
    "import pandas as pd # 데이터프레임 조작\n",
    "import numpy as np # 결측치 처리 및 수치 계산\n",
    "from sklearn.preprocessing import StandardScaler # Z-score 정규화\n"
   ]
  },
  {
   "cell_type": "code",
   "execution_count": null,
   "id": "815f8acd-effd-415c-b642-91933a81228d",
   "metadata": {},
   "outputs": [],
   "source": [
    "input_file = pd.read_csv('some_file.csv')"
   ]
  },
  {
   "cell_type": "code",
   "execution_count": null,
   "id": "0dde3f67-3ebe-4176-a541-c8c6fc1ed290",
   "metadata": {},
   "outputs": [],
   "source": [
    "output_file = some_function(input_file)"
   ]
  },
  {
   "cell_type": "code",
   "execution_count": null,
   "id": "2bb762d6-34d7-4598-b02f-b1eac06741f2",
   "metadata": {},
   "outputs": [],
   "source": [
    "output_file.to_csv('output_file.csv', index=False)"
   ]
  }
 ],
 "metadata": {
  "kernelspec": {
   "display_name": "base",
   "language": "python",
   "name": "python3"
  },
  "language_info": {
   "codemirror_mode": {
    "name": "ipython",
    "version": 3
   },
   "file_extension": ".py",
   "mimetype": "text/x-python",
   "name": "python",
   "nbconvert_exporter": "python",
   "pygments_lexer": "ipython3",
   "version": "3.12.7"
  }
 },
 "nbformat": 4,
 "nbformat_minor": 5
}
